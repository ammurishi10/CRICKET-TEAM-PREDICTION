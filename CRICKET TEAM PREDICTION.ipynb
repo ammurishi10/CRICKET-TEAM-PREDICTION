{
 "cells": [
  {
   "cell_type": "code",
   "execution_count": 15,
   "metadata": {},
   "outputs": [],
   "source": [
    "import pandas as pd\n"
   ]
  },
  {
   "cell_type": "code",
   "execution_count": 16,
   "metadata": {},
   "outputs": [],
   "source": [
    "batting_df = pd.read_csv(\"D:/Cricekt Team Selection/batting.csv\")\n",
    "bowling_df = pd.read_csv(\"D:/Cricekt Team Selection/bowling.csv\")\n",
    "fielding_df = pd.read_csv(\"D:/Cricekt Team Selection/field.csv\")"
   ]
  },
  {
   "cell_type": "code",
   "execution_count": 17,
   "metadata": {},
   "outputs": [
    {
     "name": "stdout",
     "output_type": "stream",
     "text": [
      "batting\n",
      "   Unnamed: 0                       Player       Span  Mat  Inns  NO   Runs  \\\n",
      "0           0         SR Tendulkar (INDIA)  1989-2012  463   452  41  18426   \n",
      "1           1  KC Sangakkara (Asia/ICC/SL)  2000-2015  404   380  41  14234   \n",
      "2           2         RT Ponting (AUS/ICC)  1995-2012  375   365  39  13704   \n",
      "3           3      ST Jayasuriya (Asia/SL)  1989-2011  445   433  18  13430   \n",
      "4           4   DPMD Jayawardene (Asia/SL)  1998-2015  448   418  39  12650   \n",
      "\n",
      "     HS    Ave     BF     SR  100  50   0  \n",
      "0  200*  44.83  21367  86.23   49  96  20  \n",
      "1   169  41.98  18048  78.86   25  93  15  \n",
      "2   164  42.03  17046  80.39   30  82  20  \n",
      "3   189  32.36  14725   91.2   28  68  34  \n",
      "4   144  33.37  16020  78.96   19  77  28   \n",
      "\n",
      "bowling\n",
      "   Unnamed: 0                        Player       Span  Mat  Inns  Balls  \\\n",
      "0           0  M Muralitharan (Asia/ICC/SL)  1993-2011  350   341  18811   \n",
      "1           1             Wasim Akram (PAK)  1984-2003  356   351  18186   \n",
      "2           2            Waqar Younis (PAK)  1989-2003  262   258  12698   \n",
      "3           3          WPUJC Vaas (Asia/SL)  1994-2008  322   320  15775   \n",
      "4           4  Shahid Afridi (Asia/ICC/PAK)  1996-2015  398   372  17670   \n",
      "\n",
      "    Runs  Wkts     BBI    Ave  Econ    SR   4   5  \n",
      "0  12326   534  30-Jul  23.08  3.93  35.2  15  10  \n",
      "1  11812   502  15-May  23.52  3.89  36.2  17   6  \n",
      "2   9919   416  Jul-36  23.84  4.68  30.5  14  13  \n",
      "3  11014   400  19-Aug  27.53  4.18  39.4   9   4  \n",
      "4  13632   395  12-Jul  34.51  4.62  44.7   4   9   \n",
      "\n",
      "field\n",
      "   Unnamed: 0                       Player       Span  Mat  Inns  Dis   Ct  \\\n",
      "0           0  KC Sangakkara (Asia/ICC/SL)  2000-2015  404   397  501  402   \n",
      "1           1       AC Gilchrist (AUS/ICC)  1996-2008  287   286  472  417   \n",
      "2           2        MS Dhoni (Asia/INDIA)  2004-2019  350   345  444  321   \n",
      "3           3          MV Boucher (Afr/SA)  1998-2011  295   291  425  403   \n",
      "4           4              Moin Khan (PAK)  1990-2004  219   217  287  214   \n",
      "\n",
      "    St  Ct Wk  Ct Fi           MD    D/I  \n",
      "0   99    383     19  5 (4ct 1st)  1.261  \n",
      "1   55    417      0  6 (6ct 0st)  1.650  \n",
      "2  123    321      0  6 (5ct 1st)  1.286  \n",
      "3   22    402      1  6 (6ct 0st)  1.460  \n",
      "4   73    214      0  5 (5ct 0st)  1.322   \n",
      "\n"
     ]
    }
   ],
   "source": [
    "# Display first few rows\n",
    "print(\"batting\")\n",
    "print(batting_df.head(), \"\\n\")\n",
    "\n",
    "print(\"bowling\")\n",
    "print(bowling_df.head(), \"\\n\")\n",
    "\n",
    "print(\"field\")\n",
    "print(fielding_df.head(), \"\\n\")\n"
   ]
  },
  {
   "cell_type": "code",
   "execution_count": 4,
   "metadata": {},
   "outputs": [
    {
     "name": "stdout",
     "output_type": "stream",
     "text": [
      "Merged Dataset Shape: (5127, 35)\n",
      "                 player     span_x  mat_x  inns_x    no   runs_x    hs  ave_x  \\\n",
      "0  SR Tendulkar (INDIA)  1989-2012  463.0   452.0  41.0  18426.0  200*  44.83   \n",
      "1  SR Tendulkar (INDIA)  1989-2012  463.0   452.0  41.0  18426.0  200*  44.83   \n",
      "2  SR Tendulkar (INDIA)  1989-2012  463.0   452.0  41.0  18426.0  200*  44.83   \n",
      "3  SR Tendulkar (INDIA)  1989-2012  463.0   452.0  41.0  18426.0  200*  44.83   \n",
      "4  SR Tendulkar (INDIA)  1989-2012  463.0   452.0  41.0  18426.0  200*  44.83   \n",
      "\n",
      "        bf   sr_x  ...       span    mat   inns    dis     ct   st  ct_wk  \\\n",
      "0  21367.0  86.23  ...  1989-2012  463.0  456.0  140.0  140.0  0.0    0.0   \n",
      "1  21367.0  86.23  ...  1989-2012  463.0  456.0  140.0  140.0  0.0    0.0   \n",
      "2  21367.0  86.23  ...  1989-2012  463.0  456.0  140.0  140.0  0.0    0.0   \n",
      "3  21367.0  86.23  ...  1989-2012  463.0  456.0  140.0  140.0  0.0    0.0   \n",
      "4  21367.0  86.23  ...  1989-2012  463.0  456.0  140.0  140.0  0.0    0.0   \n",
      "\n",
      "   ct_fi           md    d/i  \n",
      "0  140.0  4 (4ct 0st)  0.307  \n",
      "1  140.0  4 (4ct 0st)  0.307  \n",
      "2  140.0  4 (4ct 0st)  0.307  \n",
      "3  140.0  4 (4ct 0st)  0.307  \n",
      "4  140.0  4 (4ct 0st)  0.307  \n",
      "\n",
      "[5 rows x 35 columns]\n"
     ]
    }
   ],
   "source": [
    "# Clean column names\n",
    "def clean_columns(df):\n",
    "    df.columns = df.columns.str.strip().str.lower().str.replace(\" \", \"_\")\n",
    "    return df\n",
    "\n",
    "batting_df = clean_columns(batting_df)\n",
    "bowling_df = clean_columns(bowling_df)\n",
    "fielding_df = clean_columns(fielding_df)\n",
    "\n",
    "# Drop 'unnamed:_0' columns if present\n",
    "for df in [batting_df, bowling_df, fielding_df]:\n",
    "    if 'unnamed:_0' in df.columns:\n",
    "        df.drop(columns=['unnamed:_0'], inplace=True)\n",
    "\n",
    "# Merge datasets on 'player' column\n",
    "merged_df = batting_df.merge(bowling_df, on='player', how='outer') \\\n",
    "                      .merge(fielding_df, on='player', how='outer')\n",
    "\n",
    "# Fill missing values with 0\n",
    "merged_df.fillna(0, inplace=True)\n",
    "\n",
    "# Display shape and head of final dataset\n",
    "print(\"Merged Dataset Shape:\", merged_df.shape)\n",
    "print(merged_df.head())\n"
   ]
  },
  {
   "cell_type": "code",
   "execution_count": 5,
   "metadata": {},
   "outputs": [
    {
     "name": "stdout",
     "output_type": "stream",
     "text": [
      "Cleaned Dataset Shape: (2577, 28)\n",
      "     mat_x  inns_x    no   runs_x  ave_x       bf   sr_x   100    50     0  \\\n",
      "0    463.0   452.0  41.0  18426.0  44.83  21367.0  86.23  49.0  96.0  20.0   \n",
      "52   404.0   380.0  41.0  14234.0  41.98  18048.0  78.86  25.0  93.0  15.0   \n",
      "104  375.0   365.0  39.0  13704.0  42.03  17046.0  80.39  30.0  82.0  20.0   \n",
      "156  445.0   433.0  18.0  13430.0  32.36  14725.0  91.20  28.0  68.0  34.0   \n",
      "208  448.0   418.0  39.0  12650.0  33.37  16020.0  78.96  19.0  77.0  28.0   \n",
      "\n",
      "     ...    4    5    mat   inns    dis     ct    st  ct_wk  ct_fi    d/i  \n",
      "0    ...  4.0  2.0  463.0  456.0  140.0  140.0   0.0    0.0  140.0  0.307  \n",
      "52   ...  0.0  0.0  404.0  397.0  501.0  402.0  99.0  383.0   19.0  1.261  \n",
      "104  ...  0.0  0.0  375.0  372.0  160.0  160.0   0.0    0.0  160.0  0.430  \n",
      "156  ...  8.0  4.0  445.0  441.0  123.0  123.0   0.0    0.0  123.0  0.278  \n",
      "208  ...  0.0  0.0  448.0  443.0  218.0  218.0   0.0    0.0  218.0  0.492  \n",
      "\n",
      "[5 rows x 28 columns]\n"
     ]
    }
   ],
   "source": [
    "# Drop exact duplicates\n",
    "merged_df.drop_duplicates(inplace=True)\n",
    "\n",
    "# Drop string-based performance columns (e.g., 'hs', 'bbi', 'md') which are hard to quantify\n",
    "columns_to_drop = ['hs', 'bbi', 'md', 'span_x', 'span_y', 'span']\n",
    "\n",
    "for col in columns_to_drop:\n",
    "    if col in merged_df.columns:\n",
    "        merged_df.drop(columns=[col], inplace=True)\n",
    "\n",
    "# Optional: Drop Player column temporarily (not useful for ML model)\n",
    "player_names = merged_df['player']  # Save it if you want to use later for display\n",
    "merged_df.drop(columns=['player'], inplace=True)\n",
    "\n",
    "# Convert all remaining columns to numeric\n",
    "merged_df = merged_df.apply(pd.to_numeric, errors='coerce')\n",
    "\n",
    "# Final null cleanup (if any)\n",
    "merged_df.fillna(0, inplace=True)\n",
    "\n",
    "# Preview cleaned data\n",
    "print(\"Cleaned Dataset Shape:\", merged_df.shape)\n",
    "print(merged_df.head())\n"
   ]
  },
  {
   "cell_type": "code",
   "execution_count": 6,
   "metadata": {},
   "outputs": [
    {
     "name": "stdout",
     "output_type": "stream",
     "text": [
      "Selected class distribution:\n",
      "selected\n",
      "0    2273\n",
      "1     304\n",
      "Name: count, dtype: int64\n",
      "     ave_x   wkts    dis  selected\n",
      "0    44.83  154.0  140.0         1\n",
      "52   41.98    0.0  501.0         1\n",
      "104  42.03    3.0  160.0         1\n",
      "156  32.36  323.0  123.0         1\n",
      "208  33.37    8.0  218.0         1\n"
     ]
    }
   ],
   "source": [
    "# Define thresholds\n",
    "batting_avg_threshold = 40\n",
    "wickets_threshold = 100\n",
    "dismissals_threshold = 100\n",
    "\n",
    "# Some datasets use 'ave_x' for batting average, 'wkts' for wickets, 'dis' for dismissals\n",
    "# We check if those columns exist, else use zeros\n",
    "merged_df['selected'] = (\n",
    "    (merged_df.get('ave_x', 0) > batting_avg_threshold) |\n",
    "    (merged_df.get('wkts', 0) > wickets_threshold) |\n",
    "    (merged_df.get('dis', 0) > dismissals_threshold)\n",
    ").astype(int)\n",
    "\n",
    "# Print class balance\n",
    "print(\"Selected class distribution:\")\n",
    "print(merged_df['selected'].value_counts())\n",
    "\n",
    "# Preview the data\n",
    "print(merged_df[['ave_x', 'wkts', 'dis', 'selected']].head())\n"
   ]
  },
  {
   "cell_type": "code",
   "execution_count": 7,
   "metadata": {},
   "outputs": [
    {
     "name": "stdout",
     "output_type": "stream",
     "text": [
      "Confusion Matrix:\n",
      "[[454   1]\n",
      " [  5  56]]\n",
      "\n",
      "Classification Report:\n",
      "              precision    recall  f1-score   support\n",
      "\n",
      "           0       0.99      1.00      0.99       455\n",
      "           1       0.98      0.92      0.95        61\n",
      "\n",
      "    accuracy                           0.99       516\n",
      "   macro avg       0.99      0.96      0.97       516\n",
      "weighted avg       0.99      0.99      0.99       516\n",
      "\n"
     ]
    }
   ],
   "source": [
    "from sklearn.model_selection import train_test_split\n",
    "from sklearn.ensemble import RandomForestClassifier\n",
    "from sklearn.metrics import classification_report, confusion_matrix\n",
    "\n",
    "# Step 1: Split features (X) and target (y)\n",
    "X = merged_df.drop(columns=['selected'])\n",
    "y = merged_df['selected']\n",
    "\n",
    "# Step 2: Train-test split (stratified to maintain class balance)\n",
    "X_train, X_test, y_train, y_test = train_test_split(\n",
    "    X, y, test_size=0.2, random_state=42, stratify=y)\n",
    "\n",
    "# Step 3: Train a Random Forest Classifier\n",
    "clf = RandomForestClassifier(n_estimators=100, class_weight='balanced', random_state=42)\n",
    "clf.fit(X_train, y_train)\n",
    "\n",
    "# Step 4: Predictions and Evaluation\n",
    "y_pred = clf.predict(X_test)\n",
    "\n",
    "print(\"Confusion Matrix:\")\n",
    "print(confusion_matrix(y_test, y_pred))\n",
    "\n",
    "print(\"\\nClassification Report:\")\n",
    "print(classification_report(y_test, y_pred))\n"
   ]
  },
  {
   "cell_type": "code",
   "execution_count": 8,
   "metadata": {},
   "outputs": [
    {
     "data": {
      "image/png": "[encoded data removed]",
      "text/plain": [
       "<Figure size 720x432 with 1 Axes>"
      ]
     },
     "metadata": {
      "needs_background": "light"
     },
     "output_type": "display_data"
    }
   ],
   "source": [
    "import matplotlib.pyplot as plt\n",
    "import seaborn as sns\n",
    "\n",
    "# Get feature importances\n",
    "importances = clf.feature_importances_\n",
    "feature_names = X.columns\n",
    "\n",
    "# Create a DataFrame\n",
    "feat_imp_df = pd.DataFrame({\n",
    "    'Feature': feature_names,\n",
    "    'Importance': importances\n",
    "}).sort_values(by='Importance', ascending=False)\n",
    "\n",
    "# Plot top 10\n",
    "plt.figure(figsize=(10, 6))\n",
    "sns.barplot(data=feat_imp_df.head(10), x='Importance', y='Feature', palette='viridis')\n",
    "plt.title(\"Top 10 Features Influencing Selection\")\n",
    "plt.xlabel(\"Importance\")\n",
    "plt.ylabel(\"Feature\")\n",
    "plt.tight_layout()\n",
    "plt.show()\n"
   ]
  },
  {
   "cell_type": "code",
   "execution_count": 22,
   "metadata": {},
   "outputs": [
    {
     "name": "stdout",
     "output_type": "stream",
     "text": [
      "\n",
      "Logistic Regression - Accuracy: 0.9767\n",
      "              precision    recall  f1-score   support\n",
      "\n",
      "           0       0.98      1.00      0.99       455\n",
      "           1       0.98      0.82      0.89        61\n",
      "\n",
      "    accuracy                           0.98       516\n",
      "   macro avg       0.98      0.91      0.94       516\n",
      "weighted avg       0.98      0.98      0.98       516\n",
      "\n",
      "\n",
      "Decision Tree - Accuracy: 0.9981\n",
      "              precision    recall  f1-score   support\n",
      "\n",
      "           0       1.00      1.00      1.00       455\n",
      "           1       0.98      1.00      0.99        61\n",
      "\n",
      "    accuracy                           1.00       516\n",
      "   macro avg       0.99      1.00      1.00       516\n",
      "weighted avg       1.00      1.00      1.00       516\n",
      "\n",
      "\n",
      "Random Forest - Accuracy: 0.9903\n",
      "              precision    recall  f1-score   support\n",
      "\n",
      "           0       0.99      1.00      0.99       455\n",
      "           1       0.98      0.93      0.96        61\n",
      "\n",
      "    accuracy                           0.99       516\n",
      "   macro avg       0.99      0.97      0.98       516\n",
      "weighted avg       0.99      0.99      0.99       516\n",
      "\n",
      "\n",
      "SVM - Accuracy: 0.9709\n",
      "              precision    recall  f1-score   support\n",
      "\n",
      "           0       0.97      1.00      0.98       455\n",
      "           1       0.98      0.77      0.86        61\n",
      "\n",
      "    accuracy                           0.97       516\n",
      "   macro avg       0.97      0.88      0.92       516\n",
      "weighted avg       0.97      0.97      0.97       516\n",
      "\n",
      "\n",
      "Naive Bayes - Accuracy: 0.9283\n",
      "              precision    recall  f1-score   support\n",
      "\n",
      "           0       0.94      0.99      0.96       455\n",
      "           1       0.83      0.49      0.62        61\n",
      "\n",
      "    accuracy                           0.93       516\n",
      "   macro avg       0.88      0.74      0.79       516\n",
      "weighted avg       0.92      0.93      0.92       516\n",
      "\n",
      "\n",
      "KNN - Accuracy: 0.9690\n",
      "              precision    recall  f1-score   support\n",
      "\n",
      "           0       0.97      1.00      0.98       455\n",
      "           1       0.96      0.77      0.85        61\n",
      "\n",
      "    accuracy                           0.97       516\n",
      "   macro avg       0.96      0.88      0.92       516\n",
      "weighted avg       0.97      0.97      0.97       516\n",
      "\n"
     ]
    }
   ],
   "source": [
    "from sklearn.linear_model import LogisticRegression\n",
    "from sklearn.tree import DecisionTreeClassifier\n",
    "from sklearn.ensemble import RandomForestClassifier\n",
    "from sklearn.svm import SVC\n",
    "from sklearn.naive_bayes import GaussianNB\n",
    "from sklearn.neighbors import KNeighborsClassifier\n",
    "from sklearn.metrics import classification_report, accuracy_score\n",
    "from sklearn.preprocessing import StandardScaler\n",
    "\n",
    "#  Step 1: Scale the features\n",
    "scaler = StandardScaler()\n",
    "X_train_scaled = scaler.fit_transform(X_train)\n",
    "X_test_scaled = scaler.transform(X_test)\n",
    "\n",
    "# Step 2: Define models (LogisticRegression with higher max_iter)\n",
    "models = {\n",
    "    'Logistic Regression': LogisticRegression(max_iter=2000),\n",
    "    'Decision Tree': DecisionTreeClassifier(),\n",
    "    'Random Forest': RandomForestClassifier(class_weight='balanced'),\n",
    "    'SVM': SVC(),\n",
    "    'Naive Bayes': GaussianNB(),\n",
    "    'KNN': KNeighborsClassifier()\n",
    "}\n",
    "\n",
    "#  Step 3: Evaluate models using scaled data\n",
    "for name, model in models.items():\n",
    "    model.fit(X_train_scaled, y_train)\n",
    "    preds = model.predict(X_test_scaled)\n",
    "    acc = accuracy_score(y_test, preds)\n",
    "    \n",
    "    print(f\"\\n{name} - Accuracy: {acc:.4f}\")\n",
    "    print(classification_report(y_test, preds))\n"
   ]
  },
  {
   "cell_type": "code",
   "execution_count": 23,
   "metadata": {},
   "outputs": [
    {
     "data": {
      "image/png": "[encoded data removed]",
      "text/plain": [
       "<Figure size 720x432 with 1 Axes>"
      ]
     },
     "metadata": {
      "needs_background": "light"
     },
     "output_type": "display_data"
    }
   ],
   "source": [
    "import matplotlib.pyplot as plt\n",
    "import seaborn as sns\n",
    "import pandas as pd\n",
    "\n",
    "# Sample accuracy_scores dictionary (replace with your actual values if needed)\n",
    "accuracy_scores = {\n",
    "    'Logistic Regression': 0.9496,\n",
    "    'Decision Tree': 0.9981,\n",
    "    'Random Forest': 0.9903,\n",
    "    'SVM': 0.9264,\n",
    "    'Naive Bayes': 0.9283,\n",
    "    'KNN': 0.9322\n",
    "}\n",
    "\n",
    "# Sort accuracy scores in descending order\n",
    "sorted_acc = dict(sorted(accuracy_scores.items(), key=lambda item: item[1], reverse=True))\n",
    "\n",
    "# Create DataFrame\n",
    "acc_df = pd.DataFrame(list(sorted_acc.items()), columns=['Model', 'Accuracy'])\n",
    "\n",
    "# Plot\n",
    "plt.figure(figsize=(10, 6))\n",
    "sns.barplot(data=acc_df, x='Accuracy', y='Model', palette='crest')\n",
    "\n",
    "# Add value labels to each bar\n",
    "for index, value in enumerate(acc_df['Accuracy']):\n",
    "    plt.text(value + 0.005, index, f\"{value:.4f}\", va='center')\n",
    "\n",
    "plt.title(\"Model Accuracy Comparison\") \n",
    "plt.xlabel(\"Accuracy\")\n",
    "plt.ylabel(\"Model\")\n",
    "plt.xlim(0, 1)\n",
    "plt.grid(axis='x', linestyle='--', alpha=0.6)\n",
    "plt.tight_layout()\n",
    "plt.show()\n",
    "\n"
   ]
  },
  {
   "cell_type": "code",
   "execution_count": 24,
   "metadata": {},
   "outputs": [
    {
     "name": "stdout",
     "output_type": "stream",
     "text": [
      "✅ Best Model Selected: Decision Tree\n",
      "✅ Model saved as 'best_cricket_model.pkl'\n"
     ]
    }
   ],
   "source": [
    "import joblib\n",
    "\n",
    "# Step 1: Select best model based on accuracy\n",
    "best_model_name = max(accuracy_scores, key=accuracy_scores.get)\n",
    "best_model = models[best_model_name]\n",
    "\n",
    "print(f\"✅ Best Model Selected: {best_model_name}\")\n",
    "\n",
    "# Step 2: Save the best model to a file\n",
    "joblib.dump(best_model, \"best_cricket_model.pkl\")\n",
    "print(\"✅ Model saved as 'best_cricket_model.pkl'\")\n"
   ]
  },
  {
   "cell_type": "code",
   "execution_count": 41,
   "metadata": {},
   "outputs": [
    {
     "name": "stdout",
     "output_type": "stream",
     "text": [
      "Final Playing 11 (Based on Model Prediction & Performance):\n",
      "         Runs  Bat Avg  Strike Rate  Wickets  Economy  Dismissals Selected  \\\n",
      "104   13704.0    42.03        80.39      3.0     4.16       160.0      Yes   \n",
      "208   12650.0    33.37        78.96      8.0     5.69       218.0      Yes   \n",
      "521   10480.0    37.83        87.19    167.0     4.78       124.0      Yes   \n",
      "1054   7534.0    34.55        81.90    158.0     4.66         0.0      Yes   \n",
      "1169   6721.0    47.00        90.20    118.0     4.49         0.0      Yes   \n",
      "1117   6786.0    35.34        74.59      0.0     4.60       173.0      Yes   \n",
      "1171   6614.0    32.90        76.61    139.0     4.18         0.0      Yes   \n",
      "1227   6293.0    35.55        76.22      9.0     6.15       154.0      Yes   \n",
      "1391   5812.0    42.73        83.33    115.0     4.61         0.0      Yes   \n",
      "1451   5507.0    47.47        88.60      2.0     5.90         0.0      Yes   \n",
      "1522   4686.0    28.57        84.76      0.0     0.00       425.0      Yes   \n",
      "\n",
      "      PerformanceScore  \n",
      "104           4135.868  \n",
      "208           3818.497  \n",
      "521           3201.926  \n",
      "1054          2314.624  \n",
      "1169          2066.891  \n",
      "1117          2057.326  \n",
      "1171          2033.484  \n",
      "1227          1911.439  \n",
      "1391          1791.351  \n",
      "1451          1679.124  \n",
      "1522          1428.466  \n"
     ]
    }
   ],
   "source": [
    "# Filter only selected players\n",
    "selected_only = predicted_team_cleaned[predicted_team_cleaned['Selected'] == 'Yes'].copy()\n",
    "\n",
    "# Create a custom performance score (example formula — feel free to change)\n",
    "selected_only['PerformanceScore'] = (\n",
    "    0.3 * selected_only['Runs'] +\n",
    "    0.2 * selected_only['Bat Avg'] +\n",
    "    0.2 * selected_only['Strike Rate'] +\n",
    "    0.2 * selected_only['Wickets'] -\n",
    "    0.1 * selected_only['Economy']  # Lower economy is better, so subtract\n",
    ")\n",
    "\n",
    "# Sort by performance score\n",
    "selected_only_sorted = selected_only.sort_values(by='PerformanceScore', ascending=False)\n",
    "\n",
    "# Select top 11 players\n",
    "final_team = selected_only_sorted.head(11)\n",
    "\n",
    "# Display final team\n",
    "print(\"Final Playing 11 (Based on Model Prediction & Performance):\")\n",
    "print(final_team)\n"
   ]
  },
  {
   "cell_type": "code",
   "execution_count": 42,
   "metadata": {},
   "outputs": [
    {
     "name": "stdout",
     "output_type": "stream",
     "text": [
      " Balanced Playing 11:\n",
      "       Runs  Bat Avg  Strike Rate  Wickets  Economy         Role  \\\n",
      "0   13704.0    42.03        80.39      3.0     4.16       Batter   \n",
      "1   12650.0    33.37        78.96      8.0     5.69       Batter   \n",
      "2    6786.0    35.34        74.59      0.0     4.60       Batter   \n",
      "3    6293.0    35.55        76.22      9.0     6.15       Batter   \n",
      "4   10480.0    37.83        87.19    167.0     4.78  All-Rounder   \n",
      "5    7534.0    34.55        81.90    158.0     4.66  All-Rounder   \n",
      "6    6721.0    47.00        90.20    118.0     4.49  All-Rounder   \n",
      "7    2434.0    24.09        86.61    173.0     4.38       Bowler   \n",
      "8    2025.0    13.68        72.42    400.0     4.18       Bowler   \n",
      "9    1786.0    13.84        87.67    266.0     4.87       Bowler   \n",
      "10   1858.0    24.12        60.26    157.0     4.27       Bowler   \n",
      "\n",
      "    PerformanceScore  \n",
      "0           4135.868  \n",
      "1           3818.497  \n",
      "2           2057.326  \n",
      "3           1911.439  \n",
      "4           3201.926  \n",
      "5           2314.624  \n",
      "6           2066.891  \n",
      "7            786.502  \n",
      "8            704.302  \n",
      "9            608.815  \n",
      "10           605.249  \n"
     ]
    }
   ],
   "source": [
    "# Step 1: Add role info if not already done\n",
    "def assign_role(row):\n",
    "    if row['Wickets'] >= 100 and row['Runs'] >= 3000:\n",
    "        return 'All-Rounder'\n",
    "    elif row['Wickets'] >= 100:\n",
    "        return 'Bowler'\n",
    "    elif row['Runs'] >= 3000:\n",
    "        return 'Batter'\n",
    "    else:\n",
    "        return 'Unknown'\n",
    "\n",
    "selected_only['Role'] = selected_only.apply(assign_role, axis=1)\n",
    "\n",
    "# Step 2: Sort by performance\n",
    "selected_sorted = selected_only.sort_values(by='PerformanceScore', ascending=False)\n",
    "\n",
    "# Step 3: Select balanced team\n",
    "batters = selected_sorted[selected_sorted['Role'] == 'Batter'].head(4)\n",
    "allrounders = selected_sorted[selected_sorted['Role'] == 'All-Rounder'].head(3)\n",
    "bowlers = selected_sorted[selected_sorted['Role'] == 'Bowler'].head(4)\n",
    "\n",
    "# Step 4: Combine all\n",
    "balanced_team = pd.concat([batters, allrounders, bowlers])\n",
    "\n",
    "# Step 5: Reset index and show result\n",
    "balanced_team = balanced_team.reset_index(drop=True)\n",
    "print(\" Balanced Playing 11:\")\n",
    "print(balanced_team[['Runs', 'Bat Avg', 'Strike Rate', 'Wickets', 'Economy', 'Role', 'PerformanceScore']])\n"
   ]
  },
  {
   "cell_type": "code",
   "execution_count": 43,
   "metadata": {},
   "outputs": [
    {
     "name": "stdout",
     "output_type": "stream",
     "text": [
      " Saved as 'balanced_playing_11.csv'\n"
     ]
    }
   ],
   "source": [
    "balanced_team.to_csv(\"balanced_playing_11.csv\", index=False)\n",
    "print(\" Saved as 'balanced_playing_11.csv'\")\n"
   ]
  },
  {
   "cell_type": "code",
   "execution_count": 44,
   "metadata": {},
   "outputs": [
    {
     "data": {
      "image/png": "[encoded data removed]",
      "text/plain": [
       "<Figure size 432x288 with 1 Axes>"
      ]
     },
     "metadata": {
      "needs_background": "light"
     },
     "output_type": "display_data"
    }
   ],
   "source": [
    "import seaborn as sns\n",
    "import matplotlib.pyplot as plt\n",
    "\n",
    "plt.figure(figsize=(6, 4))\n",
    "sns.countplot(data=balanced_team, x='Role', palette='Set2')\n",
    "plt.title(\"Role Distribution in Final 11\")\n",
    "plt.xlabel(\"Role\")\n",
    "plt.ylabel(\"Count\")\n",
    "plt.tight_layout()\n",
    "plt.show()\n"
   ]
  },
  {
   "cell_type": "code",
   "execution_count": null,
   "metadata": {},
   "outputs": [],
   "source": []
  },
  {
   "cell_type": "code",
   "execution_count": null,
   "metadata": {},
   "outputs": [],
   "source": []
  },
  {
   "cell_type": "code",
   "execution_count": null,
   "metadata": {},
   "outputs": [],
   "source": []
  }
 ],
 "metadata": {
  "kernelspec": {
   "display_name": "Python 3",
   "language": "python",
   "name": "python3"
  },
  "language_info": {
   "codemirror_mode": {
    "name": "ipython",
    "version": 3
   },
   "file_extension": ".py",
   "mimetype": "text/x-python",
   "name": "python",
   "nbconvert_exporter": "python",
   "pygments_lexer": "ipython3",
   "version": "3.8.5"
  }
 },
 "nbformat": 4,
 "nbformat_minor": 4
}
